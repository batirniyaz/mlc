{
 "cells": [
  {
   "metadata": {},
   "cell_type": "markdown",
   "source": "# Decision Trees: Regression",
   "id": "15f08f81c74051d3"
  },
  {
   "metadata": {
    "ExecuteTime": {
     "end_time": "2025-03-07T16:13:15.736936Z",
     "start_time": "2025-03-07T16:13:15.683906Z"
    }
   },
   "cell_type": "code",
   "source": [
    "# Importing necessary libs\n",
    "import numpy as np\n",
    "import pandas as pd\n",
    "import matplotlib.pyplot as plt\n",
    "import kagglehub as kh\n",
    "import seaborn as sns"
   ],
   "id": "b305435b5888c452",
   "outputs": [],
   "execution_count": 1
  },
  {
   "metadata": {
    "ExecuteTime": {
     "end_time": "2025-03-07T16:13:15.877618Z",
     "start_time": "2025-03-07T16:13:15.746929Z"
    }
   },
   "cell_type": "code",
   "source": [
    "from sklearn.model_selection import train_test_split, RandomizedSearchCV\n",
    "from sklearn.metrics import root_mean_squared_error, mean_squared_error, r2_score\n",
    "from sklearn.tree import DecisionTreeRegressor\n",
    "from sklearn.preprocessing import StandardScaler"
   ],
   "id": "76ab9ad75bcf0d9d",
   "outputs": [],
   "execution_count": 2
  },
  {
   "metadata": {},
   "cell_type": "markdown",
   "source": "## Loading, Defining and Understanding the Data",
   "id": "c9793f5ffe52face"
  },
  {
   "metadata": {
    "ExecuteTime": {
     "end_time": "2025-03-07T16:13:16.673060Z",
     "start_time": "2025-03-07T16:13:15.936057Z"
    }
   },
   "cell_type": "code",
   "source": [
    "path = kh.dataset_download(\"kukuroo3/flight-price-predict-competition-format\")\n",
    "X_test, X_train, y_test, y_train = pd.read_csv(f'{path}/X_test.csv'), pd.read_csv(f'{path}/X_train.csv'), pd.read_csv(f'{path}/y_test.csv'), pd.read_csv(f'{path}/y_train.csv')"
   ],
   "id": "f2a4cf38a9dac0f9",
   "outputs": [],
   "execution_count": 3
  },
  {
   "metadata": {
    "ExecuteTime": {
     "end_time": "2025-03-07T16:13:16.688508Z",
     "start_time": "2025-03-07T16:13:16.684788Z"
    }
   },
   "cell_type": "code",
   "source": [
    "# Connecting train and test data\n",
    "X_train['is_train'] = 1\n",
    "X_test['is_train'] = 0\n",
    "\n",
    "y_train['is_train'] = 1\n",
    "y_test['is_train'] = 0\n",
    "\n",
    "X = pd.concat([X_train, X_test], ignore_index=True)\n",
    "y = pd.concat([y_train, y_test], ignore_index=True)"
   ],
   "id": "c5e73f220da7ae03",
   "outputs": [],
   "execution_count": 4
  },
  {
   "metadata": {
    "ExecuteTime": {
     "end_time": "2025-03-07T16:13:16.753367Z",
     "start_time": "2025-03-07T16:13:16.740602Z"
    }
   },
   "cell_type": "code",
   "source": "X.head()",
   "id": "6b355de51b3495bc",
   "outputs": [
    {
     "data": {
      "text/plain": [
       "   filghtId  airline  flight source_city departure_time stops arrival_time  \\\n",
       "0    252589  Vistara  UK-808   Bangalore  Early_Morning   one        Night   \n",
       "1    223754  Vistara  UK-927       Delhi        Morning   one      Evening   \n",
       "2    243398  Vistara  UK-988      Mumbai          Night   one      Morning   \n",
       "3    208360  Vistara  UK-815       Delhi        Morning   one        Night   \n",
       "4    247226  Vistara  UK-854   Bangalore        Evening   one      Morning   \n",
       "\n",
       "  destination_city  duration  days_left  is_train  \n",
       "0           Mumbai     13.25         46         1  \n",
       "1          Chennai     10.42         31         1  \n",
       "2          Chennai     13.00         28         1  \n",
       "3           Mumbai     12.67         17         1  \n",
       "4            Delhi     13.67         32         1  "
      ],
      "text/html": [
       "<div>\n",
       "<style scoped>\n",
       "    .dataframe tbody tr th:only-of-type {\n",
       "        vertical-align: middle;\n",
       "    }\n",
       "\n",
       "    .dataframe tbody tr th {\n",
       "        vertical-align: top;\n",
       "    }\n",
       "\n",
       "    .dataframe thead th {\n",
       "        text-align: right;\n",
       "    }\n",
       "</style>\n",
       "<table border=\"1\" class=\"dataframe\">\n",
       "  <thead>\n",
       "    <tr style=\"text-align: right;\">\n",
       "      <th></th>\n",
       "      <th>filghtId</th>\n",
       "      <th>airline</th>\n",
       "      <th>flight</th>\n",
       "      <th>source_city</th>\n",
       "      <th>departure_time</th>\n",
       "      <th>stops</th>\n",
       "      <th>arrival_time</th>\n",
       "      <th>destination_city</th>\n",
       "      <th>duration</th>\n",
       "      <th>days_left</th>\n",
       "      <th>is_train</th>\n",
       "    </tr>\n",
       "  </thead>\n",
       "  <tbody>\n",
       "    <tr>\n",
       "      <th>0</th>\n",
       "      <td>252589</td>\n",
       "      <td>Vistara</td>\n",
       "      <td>UK-808</td>\n",
       "      <td>Bangalore</td>\n",
       "      <td>Early_Morning</td>\n",
       "      <td>one</td>\n",
       "      <td>Night</td>\n",
       "      <td>Mumbai</td>\n",
       "      <td>13.25</td>\n",
       "      <td>46</td>\n",
       "      <td>1</td>\n",
       "    </tr>\n",
       "    <tr>\n",
       "      <th>1</th>\n",
       "      <td>223754</td>\n",
       "      <td>Vistara</td>\n",
       "      <td>UK-927</td>\n",
       "      <td>Delhi</td>\n",
       "      <td>Morning</td>\n",
       "      <td>one</td>\n",
       "      <td>Evening</td>\n",
       "      <td>Chennai</td>\n",
       "      <td>10.42</td>\n",
       "      <td>31</td>\n",
       "      <td>1</td>\n",
       "    </tr>\n",
       "    <tr>\n",
       "      <th>2</th>\n",
       "      <td>243398</td>\n",
       "      <td>Vistara</td>\n",
       "      <td>UK-988</td>\n",
       "      <td>Mumbai</td>\n",
       "      <td>Night</td>\n",
       "      <td>one</td>\n",
       "      <td>Morning</td>\n",
       "      <td>Chennai</td>\n",
       "      <td>13.00</td>\n",
       "      <td>28</td>\n",
       "      <td>1</td>\n",
       "    </tr>\n",
       "    <tr>\n",
       "      <th>3</th>\n",
       "      <td>208360</td>\n",
       "      <td>Vistara</td>\n",
       "      <td>UK-815</td>\n",
       "      <td>Delhi</td>\n",
       "      <td>Morning</td>\n",
       "      <td>one</td>\n",
       "      <td>Night</td>\n",
       "      <td>Mumbai</td>\n",
       "      <td>12.67</td>\n",
       "      <td>17</td>\n",
       "      <td>1</td>\n",
       "    </tr>\n",
       "    <tr>\n",
       "      <th>4</th>\n",
       "      <td>247226</td>\n",
       "      <td>Vistara</td>\n",
       "      <td>UK-854</td>\n",
       "      <td>Bangalore</td>\n",
       "      <td>Evening</td>\n",
       "      <td>one</td>\n",
       "      <td>Morning</td>\n",
       "      <td>Delhi</td>\n",
       "      <td>13.67</td>\n",
       "      <td>32</td>\n",
       "      <td>1</td>\n",
       "    </tr>\n",
       "  </tbody>\n",
       "</table>\n",
       "</div>"
      ]
     },
     "execution_count": 5,
     "metadata": {},
     "output_type": "execute_result"
    }
   ],
   "execution_count": 5
  },
  {
   "metadata": {
    "ExecuteTime": {
     "end_time": "2025-03-07T16:13:16.837889Z",
     "start_time": "2025-03-07T16:13:16.831786Z"
    }
   },
   "cell_type": "code",
   "source": "y.head()",
   "id": "8b7a1c92fea27a73",
   "outputs": [
    {
     "data": {
      "text/plain": [
       "   filghtId  price  is_train\n",
       "0    252589  69244         1\n",
       "1    223754  52392         1\n",
       "2    243398  61933         1\n",
       "3    208360  53164         1\n",
       "4    247226  42521         1"
      ],
      "text/html": [
       "<div>\n",
       "<style scoped>\n",
       "    .dataframe tbody tr th:only-of-type {\n",
       "        vertical-align: middle;\n",
       "    }\n",
       "\n",
       "    .dataframe tbody tr th {\n",
       "        vertical-align: top;\n",
       "    }\n",
       "\n",
       "    .dataframe thead th {\n",
       "        text-align: right;\n",
       "    }\n",
       "</style>\n",
       "<table border=\"1\" class=\"dataframe\">\n",
       "  <thead>\n",
       "    <tr style=\"text-align: right;\">\n",
       "      <th></th>\n",
       "      <th>filghtId</th>\n",
       "      <th>price</th>\n",
       "      <th>is_train</th>\n",
       "    </tr>\n",
       "  </thead>\n",
       "  <tbody>\n",
       "    <tr>\n",
       "      <th>0</th>\n",
       "      <td>252589</td>\n",
       "      <td>69244</td>\n",
       "      <td>1</td>\n",
       "    </tr>\n",
       "    <tr>\n",
       "      <th>1</th>\n",
       "      <td>223754</td>\n",
       "      <td>52392</td>\n",
       "      <td>1</td>\n",
       "    </tr>\n",
       "    <tr>\n",
       "      <th>2</th>\n",
       "      <td>243398</td>\n",
       "      <td>61933</td>\n",
       "      <td>1</td>\n",
       "    </tr>\n",
       "    <tr>\n",
       "      <th>3</th>\n",
       "      <td>208360</td>\n",
       "      <td>53164</td>\n",
       "      <td>1</td>\n",
       "    </tr>\n",
       "    <tr>\n",
       "      <th>4</th>\n",
       "      <td>247226</td>\n",
       "      <td>42521</td>\n",
       "      <td>1</td>\n",
       "    </tr>\n",
       "  </tbody>\n",
       "</table>\n",
       "</div>"
      ]
     },
     "execution_count": 6,
     "metadata": {},
     "output_type": "execute_result"
    }
   ],
   "execution_count": 6
  },
  {
   "metadata": {
    "ExecuteTime": {
     "end_time": "2025-03-07T16:13:16.898892Z",
     "start_time": "2025-03-07T16:13:16.889859Z"
    }
   },
   "cell_type": "code",
   "source": "X.info()",
   "id": "cb97c0a28157052e",
   "outputs": [
    {
     "name": "stdout",
     "output_type": "stream",
     "text": [
      "<class 'pandas.core.frame.DataFrame'>\n",
      "RangeIndex: 9045 entries, 0 to 9044\n",
      "Data columns (total 11 columns):\n",
      " #   Column            Non-Null Count  Dtype  \n",
      "---  ------            --------------  -----  \n",
      " 0   filghtId          9045 non-null   int64  \n",
      " 1   airline           9045 non-null   object \n",
      " 2   flight            9045 non-null   object \n",
      " 3   source_city       9045 non-null   object \n",
      " 4   departure_time    9045 non-null   object \n",
      " 5   stops             9045 non-null   object \n",
      " 6   arrival_time      9045 non-null   object \n",
      " 7   destination_city  9045 non-null   object \n",
      " 8   duration          9045 non-null   float64\n",
      " 9   days_left         9045 non-null   int64  \n",
      " 10  is_train          9045 non-null   int64  \n",
      "dtypes: float64(1), int64(3), object(7)\n",
      "memory usage: 777.4+ KB\n"
     ]
    }
   ],
   "execution_count": 7
  },
  {
   "metadata": {
    "ExecuteTime": {
     "end_time": "2025-03-07T16:13:17.091299Z",
     "start_time": "2025-03-07T16:13:17.079746Z"
    }
   },
   "cell_type": "code",
   "source": "X.describe()",
   "id": "a2e19fcd4078b7b2",
   "outputs": [
    {
     "data": {
      "text/plain": [
       "            filghtId     duration    days_left     is_train\n",
       "count    9045.000000  9045.000000  9045.000000  9045.000000\n",
       "mean   252355.523162    13.673428    25.814925     0.629961\n",
       "std     29467.328614     6.839508    13.514093     0.482841\n",
       "min      7837.000000     1.250000     1.000000     0.000000\n",
       "25%    229370.000000     8.750000    14.000000     0.000000\n",
       "50%    252789.000000    13.000000    26.000000     1.000000\n",
       "75%    276398.000000    17.670000    37.000000     1.000000\n",
       "max    300152.000000    45.830000    49.000000     1.000000"
      ],
      "text/html": [
       "<div>\n",
       "<style scoped>\n",
       "    .dataframe tbody tr th:only-of-type {\n",
       "        vertical-align: middle;\n",
       "    }\n",
       "\n",
       "    .dataframe tbody tr th {\n",
       "        vertical-align: top;\n",
       "    }\n",
       "\n",
       "    .dataframe thead th {\n",
       "        text-align: right;\n",
       "    }\n",
       "</style>\n",
       "<table border=\"1\" class=\"dataframe\">\n",
       "  <thead>\n",
       "    <tr style=\"text-align: right;\">\n",
       "      <th></th>\n",
       "      <th>filghtId</th>\n",
       "      <th>duration</th>\n",
       "      <th>days_left</th>\n",
       "      <th>is_train</th>\n",
       "    </tr>\n",
       "  </thead>\n",
       "  <tbody>\n",
       "    <tr>\n",
       "      <th>count</th>\n",
       "      <td>9045.000000</td>\n",
       "      <td>9045.000000</td>\n",
       "      <td>9045.000000</td>\n",
       "      <td>9045.000000</td>\n",
       "    </tr>\n",
       "    <tr>\n",
       "      <th>mean</th>\n",
       "      <td>252355.523162</td>\n",
       "      <td>13.673428</td>\n",
       "      <td>25.814925</td>\n",
       "      <td>0.629961</td>\n",
       "    </tr>\n",
       "    <tr>\n",
       "      <th>std</th>\n",
       "      <td>29467.328614</td>\n",
       "      <td>6.839508</td>\n",
       "      <td>13.514093</td>\n",
       "      <td>0.482841</td>\n",
       "    </tr>\n",
       "    <tr>\n",
       "      <th>min</th>\n",
       "      <td>7837.000000</td>\n",
       "      <td>1.250000</td>\n",
       "      <td>1.000000</td>\n",
       "      <td>0.000000</td>\n",
       "    </tr>\n",
       "    <tr>\n",
       "      <th>25%</th>\n",
       "      <td>229370.000000</td>\n",
       "      <td>8.750000</td>\n",
       "      <td>14.000000</td>\n",
       "      <td>0.000000</td>\n",
       "    </tr>\n",
       "    <tr>\n",
       "      <th>50%</th>\n",
       "      <td>252789.000000</td>\n",
       "      <td>13.000000</td>\n",
       "      <td>26.000000</td>\n",
       "      <td>1.000000</td>\n",
       "    </tr>\n",
       "    <tr>\n",
       "      <th>75%</th>\n",
       "      <td>276398.000000</td>\n",
       "      <td>17.670000</td>\n",
       "      <td>37.000000</td>\n",
       "      <td>1.000000</td>\n",
       "    </tr>\n",
       "    <tr>\n",
       "      <th>max</th>\n",
       "      <td>300152.000000</td>\n",
       "      <td>45.830000</td>\n",
       "      <td>49.000000</td>\n",
       "      <td>1.000000</td>\n",
       "    </tr>\n",
       "  </tbody>\n",
       "</table>\n",
       "</div>"
      ]
     },
     "execution_count": 8,
     "metadata": {},
     "output_type": "execute_result"
    }
   ],
   "execution_count": 8
  },
  {
   "metadata": {
    "ExecuteTime": {
     "end_time": "2025-03-07T16:13:17.273254Z",
     "start_time": "2025-03-07T16:13:17.250888Z"
    }
   },
   "cell_type": "code",
   "source": "X.head()",
   "id": "9c434ba80cdaf219",
   "outputs": [
    {
     "data": {
      "text/plain": [
       "   filghtId  airline  flight source_city departure_time stops arrival_time  \\\n",
       "0    252589  Vistara  UK-808   Bangalore  Early_Morning   one        Night   \n",
       "1    223754  Vistara  UK-927       Delhi        Morning   one      Evening   \n",
       "2    243398  Vistara  UK-988      Mumbai          Night   one      Morning   \n",
       "3    208360  Vistara  UK-815       Delhi        Morning   one        Night   \n",
       "4    247226  Vistara  UK-854   Bangalore        Evening   one      Morning   \n",
       "\n",
       "  destination_city  duration  days_left  is_train  \n",
       "0           Mumbai     13.25         46         1  \n",
       "1          Chennai     10.42         31         1  \n",
       "2          Chennai     13.00         28         1  \n",
       "3           Mumbai     12.67         17         1  \n",
       "4            Delhi     13.67         32         1  "
      ],
      "text/html": [
       "<div>\n",
       "<style scoped>\n",
       "    .dataframe tbody tr th:only-of-type {\n",
       "        vertical-align: middle;\n",
       "    }\n",
       "\n",
       "    .dataframe tbody tr th {\n",
       "        vertical-align: top;\n",
       "    }\n",
       "\n",
       "    .dataframe thead th {\n",
       "        text-align: right;\n",
       "    }\n",
       "</style>\n",
       "<table border=\"1\" class=\"dataframe\">\n",
       "  <thead>\n",
       "    <tr style=\"text-align: right;\">\n",
       "      <th></th>\n",
       "      <th>filghtId</th>\n",
       "      <th>airline</th>\n",
       "      <th>flight</th>\n",
       "      <th>source_city</th>\n",
       "      <th>departure_time</th>\n",
       "      <th>stops</th>\n",
       "      <th>arrival_time</th>\n",
       "      <th>destination_city</th>\n",
       "      <th>duration</th>\n",
       "      <th>days_left</th>\n",
       "      <th>is_train</th>\n",
       "    </tr>\n",
       "  </thead>\n",
       "  <tbody>\n",
       "    <tr>\n",
       "      <th>0</th>\n",
       "      <td>252589</td>\n",
       "      <td>Vistara</td>\n",
       "      <td>UK-808</td>\n",
       "      <td>Bangalore</td>\n",
       "      <td>Early_Morning</td>\n",
       "      <td>one</td>\n",
       "      <td>Night</td>\n",
       "      <td>Mumbai</td>\n",
       "      <td>13.25</td>\n",
       "      <td>46</td>\n",
       "      <td>1</td>\n",
       "    </tr>\n",
       "    <tr>\n",
       "      <th>1</th>\n",
       "      <td>223754</td>\n",
       "      <td>Vistara</td>\n",
       "      <td>UK-927</td>\n",
       "      <td>Delhi</td>\n",
       "      <td>Morning</td>\n",
       "      <td>one</td>\n",
       "      <td>Evening</td>\n",
       "      <td>Chennai</td>\n",
       "      <td>10.42</td>\n",
       "      <td>31</td>\n",
       "      <td>1</td>\n",
       "    </tr>\n",
       "    <tr>\n",
       "      <th>2</th>\n",
       "      <td>243398</td>\n",
       "      <td>Vistara</td>\n",
       "      <td>UK-988</td>\n",
       "      <td>Mumbai</td>\n",
       "      <td>Night</td>\n",
       "      <td>one</td>\n",
       "      <td>Morning</td>\n",
       "      <td>Chennai</td>\n",
       "      <td>13.00</td>\n",
       "      <td>28</td>\n",
       "      <td>1</td>\n",
       "    </tr>\n",
       "    <tr>\n",
       "      <th>3</th>\n",
       "      <td>208360</td>\n",
       "      <td>Vistara</td>\n",
       "      <td>UK-815</td>\n",
       "      <td>Delhi</td>\n",
       "      <td>Morning</td>\n",
       "      <td>one</td>\n",
       "      <td>Night</td>\n",
       "      <td>Mumbai</td>\n",
       "      <td>12.67</td>\n",
       "      <td>17</td>\n",
       "      <td>1</td>\n",
       "    </tr>\n",
       "    <tr>\n",
       "      <th>4</th>\n",
       "      <td>247226</td>\n",
       "      <td>Vistara</td>\n",
       "      <td>UK-854</td>\n",
       "      <td>Bangalore</td>\n",
       "      <td>Evening</td>\n",
       "      <td>one</td>\n",
       "      <td>Morning</td>\n",
       "      <td>Delhi</td>\n",
       "      <td>13.67</td>\n",
       "      <td>32</td>\n",
       "      <td>1</td>\n",
       "    </tr>\n",
       "  </tbody>\n",
       "</table>\n",
       "</div>"
      ]
     },
     "execution_count": 9,
     "metadata": {},
     "output_type": "execute_result"
    }
   ],
   "execution_count": 9
  },
  {
   "metadata": {
    "ExecuteTime": {
     "end_time": "2025-03-07T16:13:17.379683Z",
     "start_time": "2025-03-07T16:13:17.374040Z"
    }
   },
   "cell_type": "code",
   "source": [
    "# Drop unnecessary columns\n",
    "X.drop(['filghtId', 'flight'], axis=1, inplace=True)\n",
    "y.drop(['filghtId'], axis=1, inplace=True)"
   ],
   "id": "a09875f93048fda4",
   "outputs": [],
   "execution_count": 10
  },
  {
   "metadata": {
    "ExecuteTime": {
     "end_time": "2025-03-07T16:13:17.589066Z",
     "start_time": "2025-03-07T16:13:17.584532Z"
    }
   },
   "cell_type": "code",
   "source": "X['airline'].value_counts()",
   "id": "8e62f20f692f240e",
   "outputs": [
    {
     "data": {
      "text/plain": [
       "airline\n",
       "Vistara      5831\n",
       "Air_India    3195\n",
       "Indigo          6\n",
       "GO_FIRST        5\n",
       "SpiceJet        4\n",
       "AirAsia         4\n",
       "Name: count, dtype: int64"
      ]
     },
     "execution_count": 11,
     "metadata": {},
     "output_type": "execute_result"
    }
   ],
   "execution_count": 11
  },
  {
   "metadata": {
    "ExecuteTime": {
     "end_time": "2025-03-07T16:13:17.760530Z",
     "start_time": "2025-03-07T16:13:17.755707Z"
    }
   },
   "cell_type": "code",
   "source": "X['source_city'].value_counts()",
   "id": "4fd606134e48502",
   "outputs": [
    {
     "data": {
      "text/plain": [
       "source_city\n",
       "Mumbai       1904\n",
       "Delhi        1804\n",
       "Bangalore    1665\n",
       "Kolkata      1248\n",
       "Hyderabad    1226\n",
       "Chennai      1198\n",
       "Name: count, dtype: int64"
      ]
     },
     "execution_count": 12,
     "metadata": {},
     "output_type": "execute_result"
    }
   ],
   "execution_count": 12
  },
  {
   "metadata": {
    "ExecuteTime": {
     "end_time": "2025-03-07T16:13:17.810842Z",
     "start_time": "2025-03-07T16:13:17.804755Z"
    }
   },
   "cell_type": "code",
   "source": "X['departure_time'].value_counts()",
   "id": "778261862071cb5e",
   "outputs": [
    {
     "data": {
      "text/plain": [
       "departure_time\n",
       "Morning          2241\n",
       "Evening          2022\n",
       "Early_Morning    1943\n",
       "Night            1656\n",
       "Afternoon        1179\n",
       "Late_Night          4\n",
       "Name: count, dtype: int64"
      ]
     },
     "execution_count": 13,
     "metadata": {},
     "output_type": "execute_result"
    }
   ],
   "execution_count": 13
  },
  {
   "metadata": {
    "ExecuteTime": {
     "end_time": "2025-03-07T16:13:17.959858Z",
     "start_time": "2025-03-07T16:13:17.954723Z"
    }
   },
   "cell_type": "code",
   "source": "X['stops'].unique()",
   "id": "30899f2c04e9f4a0",
   "outputs": [
    {
     "data": {
      "text/plain": [
       "array(['one', 'zero', 'two_or_more'], dtype=object)"
      ]
     },
     "execution_count": 14,
     "metadata": {},
     "output_type": "execute_result"
    }
   ],
   "execution_count": 14
  },
  {
   "metadata": {},
   "cell_type": "markdown",
   "source": "## Visualizing the Data",
   "id": "ff7ea99be6179884"
  },
  {
   "metadata": {
    "ExecuteTime": {
     "end_time": "2025-03-07T16:13:18.371034Z",
     "start_time": "2025-03-07T16:13:18.087050Z"
    }
   },
   "cell_type": "code",
   "source": [
    "# Histogram\n",
    "X[['duration', 'days_left']].hist(figsize=(15, 5), bins=50, xlabelsize=8, ylabelsize=8, grid=False, alpha=0.7)\n",
    "plt.show()"
   ],
   "id": "e6d8768956d6114f",
   "outputs": [
    {
     "data": {
      "text/plain": [
       "<Figure size 1500x500 with 2 Axes>"
      ],
      "image/png": "[encoded data removed]"
     },
     "metadata": {},
     "output_type": "display_data"
    }
   ],
   "execution_count": 15
  },
  {
   "metadata": {
    "ExecuteTime": {
     "end_time": "2025-03-07T16:13:18.923153Z",
     "start_time": "2025-03-07T16:13:18.413153Z"
    }
   },
   "cell_type": "code",
   "source": [
    "# Pairplot\n",
    "sns.pairplot(X[['duration', 'days_left']], diag_kind='kde')\n",
    "plt.show()"
   ],
   "id": "aa74459c73551192",
   "outputs": [
    {
     "data": {
      "text/plain": [
       "<Figure size 500x500 with 6 Axes>"
      ],
      "image/png": "[encoded data removed]"
     },
     "metadata": {},
     "output_type": "display_data"
    }
   ],
   "execution_count": 16
  },
  {
   "metadata": {
    "ExecuteTime": {
     "end_time": "2025-03-07T16:13:19.006552Z",
     "start_time": "2025-03-07T16:13:18.932974Z"
    }
   },
   "cell_type": "code",
   "source": [
    "# Histogram of the target variable\n",
    "y[['price']].hist(xlabelsize=8, ylabelsize=8, grid=False, alpha=0.7)\n",
    "plt.show()"
   ],
   "id": "c2685728c1bade83",
   "outputs": [
    {
     "data": {
      "text/plain": [
       "<Figure size 640x480 with 1 Axes>"
      ],
      "image/png": "[encoded data removed]"
     },
     "metadata": {},
     "output_type": "display_data"
    }
   ],
   "execution_count": 17
  },
  {
   "metadata": {},
   "cell_type": "markdown",
   "source": "## Preprocessing the Data",
   "id": "37f0ba8ad6f5c0d2"
  },
  {
   "metadata": {
    "ExecuteTime": {
     "end_time": "2025-03-07T16:13:19.066350Z",
     "start_time": "2025-03-07T16:13:19.057452Z"
    }
   },
   "cell_type": "code",
   "source": "X.head()",
   "id": "8467a1602f13bc4",
   "outputs": [
    {
     "data": {
      "text/plain": [
       "   airline source_city departure_time stops arrival_time destination_city  \\\n",
       "0  Vistara   Bangalore  Early_Morning   one        Night           Mumbai   \n",
       "1  Vistara       Delhi        Morning   one      Evening          Chennai   \n",
       "2  Vistara      Mumbai          Night   one      Morning          Chennai   \n",
       "3  Vistara       Delhi        Morning   one        Night           Mumbai   \n",
       "4  Vistara   Bangalore        Evening   one      Morning            Delhi   \n",
       "\n",
       "   duration  days_left  is_train  \n",
       "0     13.25         46         1  \n",
       "1     10.42         31         1  \n",
       "2     13.00         28         1  \n",
       "3     12.67         17         1  \n",
       "4     13.67         32         1  "
      ],
      "text/html": [
       "<div>\n",
       "<style scoped>\n",
       "    .dataframe tbody tr th:only-of-type {\n",
       "        vertical-align: middle;\n",
       "    }\n",
       "\n",
       "    .dataframe tbody tr th {\n",
       "        vertical-align: top;\n",
       "    }\n",
       "\n",
       "    .dataframe thead th {\n",
       "        text-align: right;\n",
       "    }\n",
       "</style>\n",
       "<table border=\"1\" class=\"dataframe\">\n",
       "  <thead>\n",
       "    <tr style=\"text-align: right;\">\n",
       "      <th></th>\n",
       "      <th>airline</th>\n",
       "      <th>source_city</th>\n",
       "      <th>departure_time</th>\n",
       "      <th>stops</th>\n",
       "      <th>arrival_time</th>\n",
       "      <th>destination_city</th>\n",
       "      <th>duration</th>\n",
       "      <th>days_left</th>\n",
       "      <th>is_train</th>\n",
       "    </tr>\n",
       "  </thead>\n",
       "  <tbody>\n",
       "    <tr>\n",
       "      <th>0</th>\n",
       "      <td>Vistara</td>\n",
       "      <td>Bangalore</td>\n",
       "      <td>Early_Morning</td>\n",
       "      <td>one</td>\n",
       "      <td>Night</td>\n",
       "      <td>Mumbai</td>\n",
       "      <td>13.25</td>\n",
       "      <td>46</td>\n",
       "      <td>1</td>\n",
       "    </tr>\n",
       "    <tr>\n",
       "      <th>1</th>\n",
       "      <td>Vistara</td>\n",
       "      <td>Delhi</td>\n",
       "      <td>Morning</td>\n",
       "      <td>one</td>\n",
       "      <td>Evening</td>\n",
       "      <td>Chennai</td>\n",
       "      <td>10.42</td>\n",
       "      <td>31</td>\n",
       "      <td>1</td>\n",
       "    </tr>\n",
       "    <tr>\n",
       "      <th>2</th>\n",
       "      <td>Vistara</td>\n",
       "      <td>Mumbai</td>\n",
       "      <td>Night</td>\n",
       "      <td>one</td>\n",
       "      <td>Morning</td>\n",
       "      <td>Chennai</td>\n",
       "      <td>13.00</td>\n",
       "      <td>28</td>\n",
       "      <td>1</td>\n",
       "    </tr>\n",
       "    <tr>\n",
       "      <th>3</th>\n",
       "      <td>Vistara</td>\n",
       "      <td>Delhi</td>\n",
       "      <td>Morning</td>\n",
       "      <td>one</td>\n",
       "      <td>Night</td>\n",
       "      <td>Mumbai</td>\n",
       "      <td>12.67</td>\n",
       "      <td>17</td>\n",
       "      <td>1</td>\n",
       "    </tr>\n",
       "    <tr>\n",
       "      <th>4</th>\n",
       "      <td>Vistara</td>\n",
       "      <td>Bangalore</td>\n",
       "      <td>Evening</td>\n",
       "      <td>one</td>\n",
       "      <td>Morning</td>\n",
       "      <td>Delhi</td>\n",
       "      <td>13.67</td>\n",
       "      <td>32</td>\n",
       "      <td>1</td>\n",
       "    </tr>\n",
       "  </tbody>\n",
       "</table>\n",
       "</div>"
      ]
     },
     "execution_count": 18,
     "metadata": {},
     "output_type": "execute_result"
    }
   ],
   "execution_count": 18
  },
  {
   "metadata": {
    "ExecuteTime": {
     "end_time": "2025-03-07T16:13:19.137811Z",
     "start_time": "2025-03-07T16:13:19.135717Z"
    }
   },
   "cell_type": "code",
   "source": "cat_cols = ['airline', 'source_city', 'destination_city', 'departure_time', 'stops', 'arrival_time']",
   "id": "26f7f407d5299627",
   "outputs": [],
   "execution_count": 19
  },
  {
   "metadata": {
    "ExecuteTime": {
     "end_time": "2025-03-07T16:13:19.207863Z",
     "start_time": "2025-03-07T16:13:19.192024Z"
    }
   },
   "cell_type": "code",
   "source": [
    "X = pd.get_dummies(X, columns = cat_cols, drop_first=True)\n",
    "X.head()"
   ],
   "id": "3b2ec2dda52efef2",
   "outputs": [
    {
     "data": {
      "text/plain": [
       "   duration  days_left  is_train  airline_Air_India  airline_GO_FIRST  \\\n",
       "0     13.25         46         1              False             False   \n",
       "1     10.42         31         1              False             False   \n",
       "2     13.00         28         1              False             False   \n",
       "3     12.67         17         1              False             False   \n",
       "4     13.67         32         1              False             False   \n",
       "\n",
       "   airline_Indigo  airline_SpiceJet  airline_Vistara  source_city_Chennai  \\\n",
       "0           False             False             True                False   \n",
       "1           False             False             True                False   \n",
       "2           False             False             True                False   \n",
       "3           False             False             True                False   \n",
       "4           False             False             True                False   \n",
       "\n",
       "   source_city_Delhi  ...  departure_time_Late_Night  departure_time_Morning  \\\n",
       "0              False  ...                      False                   False   \n",
       "1               True  ...                      False                    True   \n",
       "2              False  ...                      False                   False   \n",
       "3               True  ...                      False                    True   \n",
       "4              False  ...                      False                   False   \n",
       "\n",
       "   departure_time_Night  stops_two_or_more  stops_zero  \\\n",
       "0                 False              False       False   \n",
       "1                 False              False       False   \n",
       "2                  True              False       False   \n",
       "3                 False              False       False   \n",
       "4                 False              False       False   \n",
       "\n",
       "   arrival_time_Early_Morning  arrival_time_Evening  arrival_time_Late_Night  \\\n",
       "0                       False                 False                    False   \n",
       "1                       False                  True                    False   \n",
       "2                       False                 False                    False   \n",
       "3                       False                 False                    False   \n",
       "4                       False                 False                    False   \n",
       "\n",
       "   arrival_time_Morning  arrival_time_Night  \n",
       "0                 False                True  \n",
       "1                 False               False  \n",
       "2                  True               False  \n",
       "3                 False                True  \n",
       "4                  True               False  \n",
       "\n",
       "[5 rows x 30 columns]"
      ],
      "text/html": [
       "<div>\n",
       "<style scoped>\n",
       "    .dataframe tbody tr th:only-of-type {\n",
       "        vertical-align: middle;\n",
       "    }\n",
       "\n",
       "    .dataframe tbody tr th {\n",
       "        vertical-align: top;\n",
       "    }\n",
       "\n",
       "    .dataframe thead th {\n",
       "        text-align: right;\n",
       "    }\n",
       "</style>\n",
       "<table border=\"1\" class=\"dataframe\">\n",
       "  <thead>\n",
       "    <tr style=\"text-align: right;\">\n",
       "      <th></th>\n",
       "      <th>duration</th>\n",
       "      <th>days_left</th>\n",
       "      <th>is_train</th>\n",
       "      <th>airline_Air_India</th>\n",
       "      <th>airline_GO_FIRST</th>\n",
       "      <th>airline_Indigo</th>\n",
       "      <th>airline_SpiceJet</th>\n",
       "      <th>airline_Vistara</th>\n",
       "      <th>source_city_Chennai</th>\n",
       "      <th>source_city_Delhi</th>\n",
       "      <th>...</th>\n",
       "      <th>departure_time_Late_Night</th>\n",
       "      <th>departure_time_Morning</th>\n",
       "      <th>departure_time_Night</th>\n",
       "      <th>stops_two_or_more</th>\n",
       "      <th>stops_zero</th>\n",
       "      <th>arrival_time_Early_Morning</th>\n",
       "      <th>arrival_time_Evening</th>\n",
       "      <th>arrival_time_Late_Night</th>\n",
       "      <th>arrival_time_Morning</th>\n",
       "      <th>arrival_time_Night</th>\n",
       "    </tr>\n",
       "  </thead>\n",
       "  <tbody>\n",
       "    <tr>\n",
       "      <th>0</th>\n",
       "      <td>13.25</td>\n",
       "      <td>46</td>\n",
       "      <td>1</td>\n",
       "      <td>False</td>\n",
       "      <td>False</td>\n",
       "      <td>False</td>\n",
       "      <td>False</td>\n",
       "      <td>True</td>\n",
       "      <td>False</td>\n",
       "      <td>False</td>\n",
       "      <td>...</td>\n",
       "      <td>False</td>\n",
       "      <td>False</td>\n",
       "      <td>False</td>\n",
       "      <td>False</td>\n",
       "      <td>False</td>\n",
       "      <td>False</td>\n",
       "      <td>False</td>\n",
       "      <td>False</td>\n",
       "      <td>False</td>\n",
       "      <td>True</td>\n",
       "    </tr>\n",
       "    <tr>\n",
       "      <th>1</th>\n",
       "      <td>10.42</td>\n",
       "      <td>31</td>\n",
       "      <td>1</td>\n",
       "      <td>False</td>\n",
       "      <td>False</td>\n",
       "      <td>False</td>\n",
       "      <td>False</td>\n",
       "      <td>True</td>\n",
       "      <td>False</td>\n",
       "      <td>True</td>\n",
       "      <td>...</td>\n",
       "      <td>False</td>\n",
       "      <td>True</td>\n",
       "      <td>False</td>\n",
       "      <td>False</td>\n",
       "      <td>False</td>\n",
       "      <td>False</td>\n",
       "      <td>True</td>\n",
       "      <td>False</td>\n",
       "      <td>False</td>\n",
       "      <td>False</td>\n",
       "    </tr>\n",
       "    <tr>\n",
       "      <th>2</th>\n",
       "      <td>13.00</td>\n",
       "      <td>28</td>\n",
       "      <td>1</td>\n",
       "      <td>False</td>\n",
       "      <td>False</td>\n",
       "      <td>False</td>\n",
       "      <td>False</td>\n",
       "      <td>True</td>\n",
       "      <td>False</td>\n",
       "      <td>False</td>\n",
       "      <td>...</td>\n",
       "      <td>False</td>\n",
       "      <td>False</td>\n",
       "      <td>True</td>\n",
       "      <td>False</td>\n",
       "      <td>False</td>\n",
       "      <td>False</td>\n",
       "      <td>False</td>\n",
       "      <td>False</td>\n",
       "      <td>True</td>\n",
       "      <td>False</td>\n",
       "    </tr>\n",
       "    <tr>\n",
       "      <th>3</th>\n",
       "      <td>12.67</td>\n",
       "      <td>17</td>\n",
       "      <td>1</td>\n",
       "      <td>False</td>\n",
       "      <td>False</td>\n",
       "      <td>False</td>\n",
       "      <td>False</td>\n",
       "      <td>True</td>\n",
       "      <td>False</td>\n",
       "      <td>True</td>\n",
       "      <td>...</td>\n",
       "      <td>False</td>\n",
       "      <td>True</td>\n",
       "      <td>False</td>\n",
       "      <td>False</td>\n",
       "      <td>False</td>\n",
       "      <td>False</td>\n",
       "      <td>False</td>\n",
       "      <td>False</td>\n",
       "      <td>False</td>\n",
       "      <td>True</td>\n",
       "    </tr>\n",
       "    <tr>\n",
       "      <th>4</th>\n",
       "      <td>13.67</td>\n",
       "      <td>32</td>\n",
       "      <td>1</td>\n",
       "      <td>False</td>\n",
       "      <td>False</td>\n",
       "      <td>False</td>\n",
       "      <td>False</td>\n",
       "      <td>True</td>\n",
       "      <td>False</td>\n",
       "      <td>False</td>\n",
       "      <td>...</td>\n",
       "      <td>False</td>\n",
       "      <td>False</td>\n",
       "      <td>False</td>\n",
       "      <td>False</td>\n",
       "      <td>False</td>\n",
       "      <td>False</td>\n",
       "      <td>False</td>\n",
       "      <td>False</td>\n",
       "      <td>True</td>\n",
       "      <td>False</td>\n",
       "    </tr>\n",
       "  </tbody>\n",
       "</table>\n",
       "<p>5 rows × 30 columns</p>\n",
       "</div>"
      ]
     },
     "execution_count": 20,
     "metadata": {},
     "output_type": "execute_result"
    }
   ],
   "execution_count": 20
  },
  {
   "metadata": {
    "ExecuteTime": {
     "end_time": "2025-03-07T16:13:19.280062Z",
     "start_time": "2025-03-07T16:13:19.273231Z"
    }
   },
   "cell_type": "code",
   "source": "X = X.astype({col: 'int64' for col in X.select_dtypes(include=['bool']).columns})",
   "id": "582dcc2b68d74736",
   "outputs": [],
   "execution_count": 21
  },
  {
   "metadata": {
    "ExecuteTime": {
     "end_time": "2025-03-07T16:13:19.353736Z",
     "start_time": "2025-03-07T16:13:19.344215Z"
    }
   },
   "cell_type": "code",
   "source": "X.head()",
   "id": "3b3649ccbc0c9a0d",
   "outputs": [
    {
     "data": {
      "text/plain": [
       "   duration  days_left  is_train  airline_Air_India  airline_GO_FIRST  \\\n",
       "0     13.25         46         1                  0                 0   \n",
       "1     10.42         31         1                  0                 0   \n",
       "2     13.00         28         1                  0                 0   \n",
       "3     12.67         17         1                  0                 0   \n",
       "4     13.67         32         1                  0                 0   \n",
       "\n",
       "   airline_Indigo  airline_SpiceJet  airline_Vistara  source_city_Chennai  \\\n",
       "0               0                 0                1                    0   \n",
       "1               0                 0                1                    0   \n",
       "2               0                 0                1                    0   \n",
       "3               0                 0                1                    0   \n",
       "4               0                 0                1                    0   \n",
       "\n",
       "   source_city_Delhi  ...  departure_time_Late_Night  departure_time_Morning  \\\n",
       "0                  0  ...                          0                       0   \n",
       "1                  1  ...                          0                       1   \n",
       "2                  0  ...                          0                       0   \n",
       "3                  1  ...                          0                       1   \n",
       "4                  0  ...                          0                       0   \n",
       "\n",
       "   departure_time_Night  stops_two_or_more  stops_zero  \\\n",
       "0                     0                  0           0   \n",
       "1                     0                  0           0   \n",
       "2                     1                  0           0   \n",
       "3                     0                  0           0   \n",
       "4                     0                  0           0   \n",
       "\n",
       "   arrival_time_Early_Morning  arrival_time_Evening  arrival_time_Late_Night  \\\n",
       "0                           0                     0                        0   \n",
       "1                           0                     1                        0   \n",
       "2                           0                     0                        0   \n",
       "3                           0                     0                        0   \n",
       "4                           0                     0                        0   \n",
       "\n",
       "   arrival_time_Morning  arrival_time_Night  \n",
       "0                     0                   1  \n",
       "1                     0                   0  \n",
       "2                     1                   0  \n",
       "3                     0                   1  \n",
       "4                     1                   0  \n",
       "\n",
       "[5 rows x 30 columns]"
      ],
      "text/html": [
       "<div>\n",
       "<style scoped>\n",
       "    .dataframe tbody tr th:only-of-type {\n",
       "        vertical-align: middle;\n",
       "    }\n",
       "\n",
       "    .dataframe tbody tr th {\n",
       "        vertical-align: top;\n",
       "    }\n",
       "\n",
       "    .dataframe thead th {\n",
       "        text-align: right;\n",
       "    }\n",
       "</style>\n",
       "<table border=\"1\" class=\"dataframe\">\n",
       "  <thead>\n",
       "    <tr style=\"text-align: right;\">\n",
       "      <th></th>\n",
       "      <th>duration</th>\n",
       "      <th>days_left</th>\n",
       "      <th>is_train</th>\n",
       "      <th>airline_Air_India</th>\n",
       "      <th>airline_GO_FIRST</th>\n",
       "      <th>airline_Indigo</th>\n",
       "      <th>airline_SpiceJet</th>\n",
       "      <th>airline_Vistara</th>\n",
       "      <th>source_city_Chennai</th>\n",
       "      <th>source_city_Delhi</th>\n",
       "      <th>...</th>\n",
       "      <th>departure_time_Late_Night</th>\n",
       "      <th>departure_time_Morning</th>\n",
       "      <th>departure_time_Night</th>\n",
       "      <th>stops_two_or_more</th>\n",
       "      <th>stops_zero</th>\n",
       "      <th>arrival_time_Early_Morning</th>\n",
       "      <th>arrival_time_Evening</th>\n",
       "      <th>arrival_time_Late_Night</th>\n",
       "      <th>arrival_time_Morning</th>\n",
       "      <th>arrival_time_Night</th>\n",
       "    </tr>\n",
       "  </thead>\n",
       "  <tbody>\n",
       "    <tr>\n",
       "      <th>0</th>\n",
       "      <td>13.25</td>\n",
       "      <td>46</td>\n",
       "      <td>1</td>\n",
       "      <td>0</td>\n",
       "      <td>0</td>\n",
       "      <td>0</td>\n",
       "      <td>0</td>\n",
       "      <td>1</td>\n",
       "      <td>0</td>\n",
       "      <td>0</td>\n",
       "      <td>...</td>\n",
       "      <td>0</td>\n",
       "      <td>0</td>\n",
       "      <td>0</td>\n",
       "      <td>0</td>\n",
       "      <td>0</td>\n",
       "      <td>0</td>\n",
       "      <td>0</td>\n",
       "      <td>0</td>\n",
       "      <td>0</td>\n",
       "      <td>1</td>\n",
       "    </tr>\n",
       "    <tr>\n",
       "      <th>1</th>\n",
       "      <td>10.42</td>\n",
       "      <td>31</td>\n",
       "      <td>1</td>\n",
       "      <td>0</td>\n",
       "      <td>0</td>\n",
       "      <td>0</td>\n",
       "      <td>0</td>\n",
       "      <td>1</td>\n",
       "      <td>0</td>\n",
       "      <td>1</td>\n",
       "      <td>...</td>\n",
       "      <td>0</td>\n",
       "      <td>1</td>\n",
       "      <td>0</td>\n",
       "      <td>0</td>\n",
       "      <td>0</td>\n",
       "      <td>0</td>\n",
       "      <td>1</td>\n",
       "      <td>0</td>\n",
       "      <td>0</td>\n",
       "      <td>0</td>\n",
       "    </tr>\n",
       "    <tr>\n",
       "      <th>2</th>\n",
       "      <td>13.00</td>\n",
       "      <td>28</td>\n",
       "      <td>1</td>\n",
       "      <td>0</td>\n",
       "      <td>0</td>\n",
       "      <td>0</td>\n",
       "      <td>0</td>\n",
       "      <td>1</td>\n",
       "      <td>0</td>\n",
       "      <td>0</td>\n",
       "      <td>...</td>\n",
       "      <td>0</td>\n",
       "      <td>0</td>\n",
       "      <td>1</td>\n",
       "      <td>0</td>\n",
       "      <td>0</td>\n",
       "      <td>0</td>\n",
       "      <td>0</td>\n",
       "      <td>0</td>\n",
       "      <td>1</td>\n",
       "      <td>0</td>\n",
       "    </tr>\n",
       "    <tr>\n",
       "      <th>3</th>\n",
       "      <td>12.67</td>\n",
       "      <td>17</td>\n",
       "      <td>1</td>\n",
       "      <td>0</td>\n",
       "      <td>0</td>\n",
       "      <td>0</td>\n",
       "      <td>0</td>\n",
       "      <td>1</td>\n",
       "      <td>0</td>\n",
       "      <td>1</td>\n",
       "      <td>...</td>\n",
       "      <td>0</td>\n",
       "      <td>1</td>\n",
       "      <td>0</td>\n",
       "      <td>0</td>\n",
       "      <td>0</td>\n",
       "      <td>0</td>\n",
       "      <td>0</td>\n",
       "      <td>0</td>\n",
       "      <td>0</td>\n",
       "      <td>1</td>\n",
       "    </tr>\n",
       "    <tr>\n",
       "      <th>4</th>\n",
       "      <td>13.67</td>\n",
       "      <td>32</td>\n",
       "      <td>1</td>\n",
       "      <td>0</td>\n",
       "      <td>0</td>\n",
       "      <td>0</td>\n",
       "      <td>0</td>\n",
       "      <td>1</td>\n",
       "      <td>0</td>\n",
       "      <td>0</td>\n",
       "      <td>...</td>\n",
       "      <td>0</td>\n",
       "      <td>0</td>\n",
       "      <td>0</td>\n",
       "      <td>0</td>\n",
       "      <td>0</td>\n",
       "      <td>0</td>\n",
       "      <td>0</td>\n",
       "      <td>0</td>\n",
       "      <td>1</td>\n",
       "      <td>0</td>\n",
       "    </tr>\n",
       "  </tbody>\n",
       "</table>\n",
       "<p>5 rows × 30 columns</p>\n",
       "</div>"
      ]
     },
     "execution_count": 22,
     "metadata": {},
     "output_type": "execute_result"
    }
   ],
   "execution_count": 22
  },
  {
   "metadata": {
    "ExecuteTime": {
     "end_time": "2025-03-07T16:13:19.425462Z",
     "start_time": "2025-03-07T16:13:19.422622Z"
    }
   },
   "cell_type": "code",
   "source": "X.shape",
   "id": "43677702bbe2a2a7",
   "outputs": [
    {
     "data": {
      "text/plain": [
       "(9045, 30)"
      ]
     },
     "execution_count": 23,
     "metadata": {},
     "output_type": "execute_result"
    }
   ],
   "execution_count": 23
  },
  {
   "metadata": {
    "ExecuteTime": {
     "end_time": "2025-03-07T16:13:19.592930Z",
     "start_time": "2025-03-07T16:13:19.581833Z"
    }
   },
   "cell_type": "code",
   "source": "y.describe()",
   "id": "2d7b8ccd3f6e16c3",
   "outputs": [
    {
     "data": {
      "text/plain": [
       "               price     is_train\n",
       "count    9045.000000  9045.000000\n",
       "mean    52198.478165     0.629961\n",
       "std     13179.175493     0.482841\n",
       "min      2339.000000     0.000000\n",
       "25%     44610.000000     0.000000\n",
       "50%     53164.000000     1.000000\n",
       "75%     60365.000000     1.000000\n",
       "max    117307.000000     1.000000"
      ],
      "text/html": [
       "<div>\n",
       "<style scoped>\n",
       "    .dataframe tbody tr th:only-of-type {\n",
       "        vertical-align: middle;\n",
       "    }\n",
       "\n",
       "    .dataframe tbody tr th {\n",
       "        vertical-align: top;\n",
       "    }\n",
       "\n",
       "    .dataframe thead th {\n",
       "        text-align: right;\n",
       "    }\n",
       "</style>\n",
       "<table border=\"1\" class=\"dataframe\">\n",
       "  <thead>\n",
       "    <tr style=\"text-align: right;\">\n",
       "      <th></th>\n",
       "      <th>price</th>\n",
       "      <th>is_train</th>\n",
       "    </tr>\n",
       "  </thead>\n",
       "  <tbody>\n",
       "    <tr>\n",
       "      <th>count</th>\n",
       "      <td>9045.000000</td>\n",
       "      <td>9045.000000</td>\n",
       "    </tr>\n",
       "    <tr>\n",
       "      <th>mean</th>\n",
       "      <td>52198.478165</td>\n",
       "      <td>0.629961</td>\n",
       "    </tr>\n",
       "    <tr>\n",
       "      <th>std</th>\n",
       "      <td>13179.175493</td>\n",
       "      <td>0.482841</td>\n",
       "    </tr>\n",
       "    <tr>\n",
       "      <th>min</th>\n",
       "      <td>2339.000000</td>\n",
       "      <td>0.000000</td>\n",
       "    </tr>\n",
       "    <tr>\n",
       "      <th>25%</th>\n",
       "      <td>44610.000000</td>\n",
       "      <td>0.000000</td>\n",
       "    </tr>\n",
       "    <tr>\n",
       "      <th>50%</th>\n",
       "      <td>53164.000000</td>\n",
       "      <td>1.000000</td>\n",
       "    </tr>\n",
       "    <tr>\n",
       "      <th>75%</th>\n",
       "      <td>60365.000000</td>\n",
       "      <td>1.000000</td>\n",
       "    </tr>\n",
       "    <tr>\n",
       "      <th>max</th>\n",
       "      <td>117307.000000</td>\n",
       "      <td>1.000000</td>\n",
       "    </tr>\n",
       "  </tbody>\n",
       "</table>\n",
       "</div>"
      ]
     },
     "execution_count": 24,
     "metadata": {},
     "output_type": "execute_result"
    }
   ],
   "execution_count": 24
  },
  {
   "metadata": {
    "ExecuteTime": {
     "end_time": "2025-03-07T16:13:19.678143Z",
     "start_time": "2025-03-07T16:13:19.670879Z"
    }
   },
   "cell_type": "code",
   "source": [
    "# scaler\n",
    "scaler = StandardScaler()\n",
    "\n",
    "y['price'] = scaler.fit_transform(y[['price']])\n",
    "X[['duration', 'days_left']] = scaler.fit_transform(X[['duration', 'days_left']])"
   ],
   "id": "1a33fb4d4e36225d",
   "outputs": [],
   "execution_count": 25
  },
  {
   "metadata": {
    "ExecuteTime": {
     "end_time": "2025-03-07T16:13:19.865776Z",
     "start_time": "2025-03-07T16:13:19.823903Z"
    }
   },
   "cell_type": "code",
   "source": "X.describe()",
   "id": "ee32b7f148386455",
   "outputs": [
    {
     "data": {
      "text/plain": [
       "           duration     days_left     is_train  airline_Air_India  \\\n",
       "count  9.045000e+03  9.045000e+03  9045.000000        9045.000000   \n",
       "mean  -1.610406e-16 -7.973476e-17     0.629961           0.353234   \n",
       "std    1.000055e+00  1.000055e+00     0.482841           0.478001   \n",
       "min   -1.816522e+00 -1.836327e+00     0.000000           0.000000   \n",
       "25%   -7.198911e-01 -8.743153e-01     0.000000           0.000000   \n",
       "50%   -9.846698e-02  1.369569e-02     1.000000           0.000000   \n",
       "75%    5.843685e-01  8.277058e-01     1.000000           1.000000   \n",
       "max    4.701852e+00  1.715717e+00     1.000000           1.000000   \n",
       "\n",
       "       airline_GO_FIRST  airline_Indigo  airline_SpiceJet  airline_Vistara  \\\n",
       "count       9045.000000     9045.000000       9045.000000      9045.000000   \n",
       "mean           0.000553        0.000663          0.000442         0.644666   \n",
       "std            0.023506        0.025748          0.021026         0.478641   \n",
       "min            0.000000        0.000000          0.000000         0.000000   \n",
       "25%            0.000000        0.000000          0.000000         0.000000   \n",
       "50%            0.000000        0.000000          0.000000         1.000000   \n",
       "75%            0.000000        0.000000          0.000000         1.000000   \n",
       "max            1.000000        1.000000          1.000000         1.000000   \n",
       "\n",
       "       source_city_Chennai  source_city_Delhi  ...  departure_time_Late_Night  \\\n",
       "count          9045.000000        9045.000000  ...                9045.000000   \n",
       "mean              0.132449           0.199447  ...                   0.000442   \n",
       "std               0.338997           0.399607  ...                   0.021026   \n",
       "min               0.000000           0.000000  ...                   0.000000   \n",
       "25%               0.000000           0.000000  ...                   0.000000   \n",
       "50%               0.000000           0.000000  ...                   0.000000   \n",
       "75%               0.000000           0.000000  ...                   0.000000   \n",
       "max               1.000000           1.000000  ...                   1.000000   \n",
       "\n",
       "       departure_time_Morning  departure_time_Night  stops_two_or_more  \\\n",
       "count             9045.000000           9045.000000        9045.000000   \n",
       "mean                 0.247761              0.183085           0.010724   \n",
       "std                  0.431736              0.386757           0.103006   \n",
       "min                  0.000000              0.000000           0.000000   \n",
       "25%                  0.000000              0.000000           0.000000   \n",
       "50%                  0.000000              0.000000           0.000000   \n",
       "75%                  0.000000              0.000000           0.000000   \n",
       "max                  1.000000              1.000000           1.000000   \n",
       "\n",
       "        stops_zero  arrival_time_Early_Morning  arrival_time_Evening  \\\n",
       "count  9045.000000                 9045.000000           9045.000000   \n",
       "mean      0.085240                    0.040907              0.273853   \n",
       "std       0.279255                    0.198085              0.445959   \n",
       "min       0.000000                    0.000000              0.000000   \n",
       "25%       0.000000                    0.000000              0.000000   \n",
       "50%       0.000000                    0.000000              0.000000   \n",
       "75%       0.000000                    0.000000              1.000000   \n",
       "max       1.000000                    1.000000              1.000000   \n",
       "\n",
       "       arrival_time_Late_Night  arrival_time_Morning  arrival_time_Night  \n",
       "count              9045.000000           9045.000000         9045.000000  \n",
       "mean                  0.021891              0.230735            0.311001  \n",
       "std                   0.146334              0.421327            0.462929  \n",
       "min                   0.000000              0.000000            0.000000  \n",
       "25%                   0.000000              0.000000            0.000000  \n",
       "50%                   0.000000              0.000000            0.000000  \n",
       "75%                   0.000000              0.000000            1.000000  \n",
       "max                   1.000000              1.000000            1.000000  \n",
       "\n",
       "[8 rows x 30 columns]"
      ],
      "text/html": [
       "<div>\n",
       "<style scoped>\n",
       "    .dataframe tbody tr th:only-of-type {\n",
       "        vertical-align: middle;\n",
       "    }\n",
       "\n",
       "    .dataframe tbody tr th {\n",
       "        vertical-align: top;\n",
       "    }\n",
       "\n",
       "    .dataframe thead th {\n",
       "        text-align: right;\n",
       "    }\n",
       "</style>\n",
       "<table border=\"1\" class=\"dataframe\">\n",
       "  <thead>\n",
       "    <tr style=\"text-align: right;\">\n",
       "      <th></th>\n",
       "      <th>duration</th>\n",
       "      <th>days_left</th>\n",
       "      <th>is_train</th>\n",
       "      <th>airline_Air_India</th>\n",
       "      <th>airline_GO_FIRST</th>\n",
       "      <th>airline_Indigo</th>\n",
       "      <th>airline_SpiceJet</th>\n",
       "      <th>airline_Vistara</th>\n",
       "      <th>source_city_Chennai</th>\n",
       "      <th>source_city_Delhi</th>\n",
       "      <th>...</th>\n",
       "      <th>departure_time_Late_Night</th>\n",
       "      <th>departure_time_Morning</th>\n",
       "      <th>departure_time_Night</th>\n",
       "      <th>stops_two_or_more</th>\n",
       "      <th>stops_zero</th>\n",
       "      <th>arrival_time_Early_Morning</th>\n",
       "      <th>arrival_time_Evening</th>\n",
       "      <th>arrival_time_Late_Night</th>\n",
       "      <th>arrival_time_Morning</th>\n",
       "      <th>arrival_time_Night</th>\n",
       "    </tr>\n",
       "  </thead>\n",
       "  <tbody>\n",
       "    <tr>\n",
       "      <th>count</th>\n",
       "      <td>9.045000e+03</td>\n",
       "      <td>9.045000e+03</td>\n",
       "      <td>9045.000000</td>\n",
       "      <td>9045.000000</td>\n",
       "      <td>9045.000000</td>\n",
       "      <td>9045.000000</td>\n",
       "      <td>9045.000000</td>\n",
       "      <td>9045.000000</td>\n",
       "      <td>9045.000000</td>\n",
       "      <td>9045.000000</td>\n",
       "      <td>...</td>\n",
       "      <td>9045.000000</td>\n",
       "      <td>9045.000000</td>\n",
       "      <td>9045.000000</td>\n",
       "      <td>9045.000000</td>\n",
       "      <td>9045.000000</td>\n",
       "      <td>9045.000000</td>\n",
       "      <td>9045.000000</td>\n",
       "      <td>9045.000000</td>\n",
       "      <td>9045.000000</td>\n",
       "      <td>9045.000000</td>\n",
       "    </tr>\n",
       "    <tr>\n",
       "      <th>mean</th>\n",
       "      <td>-1.610406e-16</td>\n",
       "      <td>-7.973476e-17</td>\n",
       "      <td>0.629961</td>\n",
       "      <td>0.353234</td>\n",
       "      <td>0.000553</td>\n",
       "      <td>0.000663</td>\n",
       "      <td>0.000442</td>\n",
       "      <td>0.644666</td>\n",
       "      <td>0.132449</td>\n",
       "      <td>0.199447</td>\n",
       "      <td>...</td>\n",
       "      <td>0.000442</td>\n",
       "      <td>0.247761</td>\n",
       "      <td>0.183085</td>\n",
       "      <td>0.010724</td>\n",
       "      <td>0.085240</td>\n",
       "      <td>0.040907</td>\n",
       "      <td>0.273853</td>\n",
       "      <td>0.021891</td>\n",
       "      <td>0.230735</td>\n",
       "      <td>0.311001</td>\n",
       "    </tr>\n",
       "    <tr>\n",
       "      <th>std</th>\n",
       "      <td>1.000055e+00</td>\n",
       "      <td>1.000055e+00</td>\n",
       "      <td>0.482841</td>\n",
       "      <td>0.478001</td>\n",
       "      <td>0.023506</td>\n",
       "      <td>0.025748</td>\n",
       "      <td>0.021026</td>\n",
       "      <td>0.478641</td>\n",
       "      <td>0.338997</td>\n",
       "      <td>0.399607</td>\n",
       "      <td>...</td>\n",
       "      <td>0.021026</td>\n",
       "      <td>0.431736</td>\n",
       "      <td>0.386757</td>\n",
       "      <td>0.103006</td>\n",
       "      <td>0.279255</td>\n",
       "      <td>0.198085</td>\n",
       "      <td>0.445959</td>\n",
       "      <td>0.146334</td>\n",
       "      <td>0.421327</td>\n",
       "      <td>0.462929</td>\n",
       "    </tr>\n",
       "    <tr>\n",
       "      <th>min</th>\n",
       "      <td>-1.816522e+00</td>\n",
       "      <td>-1.836327e+00</td>\n",
       "      <td>0.000000</td>\n",
       "      <td>0.000000</td>\n",
       "      <td>0.000000</td>\n",
       "      <td>0.000000</td>\n",
       "      <td>0.000000</td>\n",
       "      <td>0.000000</td>\n",
       "      <td>0.000000</td>\n",
       "      <td>0.000000</td>\n",
       "      <td>...</td>\n",
       "      <td>0.000000</td>\n",
       "      <td>0.000000</td>\n",
       "      <td>0.000000</td>\n",
       "      <td>0.000000</td>\n",
       "      <td>0.000000</td>\n",
       "      <td>0.000000</td>\n",
       "      <td>0.000000</td>\n",
       "      <td>0.000000</td>\n",
       "      <td>0.000000</td>\n",
       "      <td>0.000000</td>\n",
       "    </tr>\n",
       "    <tr>\n",
       "      <th>25%</th>\n",
       "      <td>-7.198911e-01</td>\n",
       "      <td>-8.743153e-01</td>\n",
       "      <td>0.000000</td>\n",
       "      <td>0.000000</td>\n",
       "      <td>0.000000</td>\n",
       "      <td>0.000000</td>\n",
       "      <td>0.000000</td>\n",
       "      <td>0.000000</td>\n",
       "      <td>0.000000</td>\n",
       "      <td>0.000000</td>\n",
       "      <td>...</td>\n",
       "      <td>0.000000</td>\n",
       "      <td>0.000000</td>\n",
       "      <td>0.000000</td>\n",
       "      <td>0.000000</td>\n",
       "      <td>0.000000</td>\n",
       "      <td>0.000000</td>\n",
       "      <td>0.000000</td>\n",
       "      <td>0.000000</td>\n",
       "      <td>0.000000</td>\n",
       "      <td>0.000000</td>\n",
       "    </tr>\n",
       "    <tr>\n",
       "      <th>50%</th>\n",
       "      <td>-9.846698e-02</td>\n",
       "      <td>1.369569e-02</td>\n",
       "      <td>1.000000</td>\n",
       "      <td>0.000000</td>\n",
       "      <td>0.000000</td>\n",
       "      <td>0.000000</td>\n",
       "      <td>0.000000</td>\n",
       "      <td>1.000000</td>\n",
       "      <td>0.000000</td>\n",
       "      <td>0.000000</td>\n",
       "      <td>...</td>\n",
       "      <td>0.000000</td>\n",
       "      <td>0.000000</td>\n",
       "      <td>0.000000</td>\n",
       "      <td>0.000000</td>\n",
       "      <td>0.000000</td>\n",
       "      <td>0.000000</td>\n",
       "      <td>0.000000</td>\n",
       "      <td>0.000000</td>\n",
       "      <td>0.000000</td>\n",
       "      <td>0.000000</td>\n",
       "    </tr>\n",
       "    <tr>\n",
       "      <th>75%</th>\n",
       "      <td>5.843685e-01</td>\n",
       "      <td>8.277058e-01</td>\n",
       "      <td>1.000000</td>\n",
       "      <td>1.000000</td>\n",
       "      <td>0.000000</td>\n",
       "      <td>0.000000</td>\n",
       "      <td>0.000000</td>\n",
       "      <td>1.000000</td>\n",
       "      <td>0.000000</td>\n",
       "      <td>0.000000</td>\n",
       "      <td>...</td>\n",
       "      <td>0.000000</td>\n",
       "      <td>0.000000</td>\n",
       "      <td>0.000000</td>\n",
       "      <td>0.000000</td>\n",
       "      <td>0.000000</td>\n",
       "      <td>0.000000</td>\n",
       "      <td>1.000000</td>\n",
       "      <td>0.000000</td>\n",
       "      <td>0.000000</td>\n",
       "      <td>1.000000</td>\n",
       "    </tr>\n",
       "    <tr>\n",
       "      <th>max</th>\n",
       "      <td>4.701852e+00</td>\n",
       "      <td>1.715717e+00</td>\n",
       "      <td>1.000000</td>\n",
       "      <td>1.000000</td>\n",
       "      <td>1.000000</td>\n",
       "      <td>1.000000</td>\n",
       "      <td>1.000000</td>\n",
       "      <td>1.000000</td>\n",
       "      <td>1.000000</td>\n",
       "      <td>1.000000</td>\n",
       "      <td>...</td>\n",
       "      <td>1.000000</td>\n",
       "      <td>1.000000</td>\n",
       "      <td>1.000000</td>\n",
       "      <td>1.000000</td>\n",
       "      <td>1.000000</td>\n",
       "      <td>1.000000</td>\n",
       "      <td>1.000000</td>\n",
       "      <td>1.000000</td>\n",
       "      <td>1.000000</td>\n",
       "      <td>1.000000</td>\n",
       "    </tr>\n",
       "  </tbody>\n",
       "</table>\n",
       "<p>8 rows × 30 columns</p>\n",
       "</div>"
      ]
     },
     "execution_count": 26,
     "metadata": {},
     "output_type": "execute_result"
    }
   ],
   "execution_count": 26
  },
  {
   "metadata": {
    "ExecuteTime": {
     "end_time": "2025-03-07T16:13:19.915656Z",
     "start_time": "2025-03-07T16:13:19.907751Z"
    }
   },
   "cell_type": "code",
   "source": "y.describe()",
   "id": "38d7b097b6ae4130",
   "outputs": [
    {
     "data": {
      "text/plain": [
       "              price     is_train\n",
       "count  9.045000e+03  9045.000000\n",
       "mean   9.426769e-18     0.629961\n",
       "std    1.000055e+00     0.482841\n",
       "min   -3.783411e+00     0.000000\n",
       "25%   -5.758249e-01     0.000000\n",
       "50%    7.326522e-02     1.000000\n",
       "75%    6.196877e-01     1.000000\n",
       "max    4.940531e+00     1.000000"
      ],
      "text/html": [
       "<div>\n",
       "<style scoped>\n",
       "    .dataframe tbody tr th:only-of-type {\n",
       "        vertical-align: middle;\n",
       "    }\n",
       "\n",
       "    .dataframe tbody tr th {\n",
       "        vertical-align: top;\n",
       "    }\n",
       "\n",
       "    .dataframe thead th {\n",
       "        text-align: right;\n",
       "    }\n",
       "</style>\n",
       "<table border=\"1\" class=\"dataframe\">\n",
       "  <thead>\n",
       "    <tr style=\"text-align: right;\">\n",
       "      <th></th>\n",
       "      <th>price</th>\n",
       "      <th>is_train</th>\n",
       "    </tr>\n",
       "  </thead>\n",
       "  <tbody>\n",
       "    <tr>\n",
       "      <th>count</th>\n",
       "      <td>9.045000e+03</td>\n",
       "      <td>9045.000000</td>\n",
       "    </tr>\n",
       "    <tr>\n",
       "      <th>mean</th>\n",
       "      <td>9.426769e-18</td>\n",
       "      <td>0.629961</td>\n",
       "    </tr>\n",
       "    <tr>\n",
       "      <th>std</th>\n",
       "      <td>1.000055e+00</td>\n",
       "      <td>0.482841</td>\n",
       "    </tr>\n",
       "    <tr>\n",
       "      <th>min</th>\n",
       "      <td>-3.783411e+00</td>\n",
       "      <td>0.000000</td>\n",
       "    </tr>\n",
       "    <tr>\n",
       "      <th>25%</th>\n",
       "      <td>-5.758249e-01</td>\n",
       "      <td>0.000000</td>\n",
       "    </tr>\n",
       "    <tr>\n",
       "      <th>50%</th>\n",
       "      <td>7.326522e-02</td>\n",
       "      <td>1.000000</td>\n",
       "    </tr>\n",
       "    <tr>\n",
       "      <th>75%</th>\n",
       "      <td>6.196877e-01</td>\n",
       "      <td>1.000000</td>\n",
       "    </tr>\n",
       "    <tr>\n",
       "      <th>max</th>\n",
       "      <td>4.940531e+00</td>\n",
       "      <td>1.000000</td>\n",
       "    </tr>\n",
       "  </tbody>\n",
       "</table>\n",
       "</div>"
      ]
     },
     "execution_count": 27,
     "metadata": {},
     "output_type": "execute_result"
    }
   ],
   "execution_count": 27
  },
  {
   "metadata": {},
   "cell_type": "markdown",
   "source": "## Training, Predicting and Evaluating the Model",
   "id": "cbcb197289cbcabb"
  },
  {
   "metadata": {
    "ExecuteTime": {
     "end_time": "2025-03-07T16:13:20.155527Z",
     "start_time": "2025-03-07T16:13:20.136256Z"
    }
   },
   "cell_type": "code",
   "source": [
    "# Split the data into train and test sets\n",
    "X_train = X[X['is_train'] == 1].drop(columns=['is_train'])\n",
    "X_test = X[X['is_train'] == 0].drop(columns=['is_train'])\n",
    "\n",
    "y_train = y[y['is_train'] == 1].drop(columns=['is_train'])\n",
    "y_test = y[y['is_train'] == 0].drop(columns=['is_train'])\n",
    "\n",
    "X_train.reset_index(drop=True, inplace=True)\n",
    "X_test.reset_index(drop=True, inplace=True)\n",
    "\n",
    "y_train.reset_index(drop=True, inplace=True)\n",
    "y_test.reset_index(drop=True, inplace=True)"
   ],
   "id": "d868e723e98b7cd0",
   "outputs": [],
   "execution_count": 28
  },
  {
   "metadata": {
    "ExecuteTime": {
     "end_time": "2025-03-07T16:13:20.355782Z",
     "start_time": "2025-03-07T16:13:20.351140Z"
    }
   },
   "cell_type": "code",
   "source": "X_train.shape, X_test.shape, y_train.shape, y_test.shape",
   "id": "1f05d1e8c7196320",
   "outputs": [
    {
     "data": {
      "text/plain": [
       "((5698, 29), (3347, 29), (5698, 1), (3347, 1))"
      ]
     },
     "execution_count": 29,
     "metadata": {},
     "output_type": "execute_result"
    }
   ],
   "execution_count": 29
  },
  {
   "metadata": {
    "ExecuteTime": {
     "end_time": "2025-03-07T16:13:20.533213Z",
     "start_time": "2025-03-07T16:13:20.530141Z"
    }
   },
   "cell_type": "code",
   "source": [
    "# Initialize the model\n",
    "dt_reg = DecisionTreeRegressor(\n",
    "    max_depth=10,\n",
    "    min_samples_split=20,\n",
    "    min_samples_leaf=10,\n",
    "    random_state=42,\n",
    "    criterion='squared_error',\n",
    "    splitter='best',\n",
    "    max_features=None,\n",
    ")"
   ],
   "id": "d0e413adbb0d4c2f",
   "outputs": [],
   "execution_count": 30
  },
  {
   "metadata": {
    "ExecuteTime": {
     "end_time": "2025-03-07T16:13:20.742856Z",
     "start_time": "2025-03-07T16:13:20.716736Z"
    }
   },
   "cell_type": "code",
   "source": [
    "# Fit the model\n",
    "dt_reg.fit(X_train, y_train)\n",
    "\n",
    "# Predict the target variable\n",
    "y_pred = dt_reg.predict(X_test)"
   ],
   "id": "be7d31b481e205d7",
   "outputs": [],
   "execution_count": 31
  },
  {
   "metadata": {
    "ExecuteTime": {
     "end_time": "2025-03-07T16:13:20.790413Z",
     "start_time": "2025-03-07T16:13:20.779513Z"
    }
   },
   "cell_type": "code",
   "source": [
    "# Evaluate the model\n",
    "rmse = root_mean_squared_error(y_test, y_pred)\n",
    "mse = mean_squared_error(y_test, y_pred)\n",
    "r2 = r2_score(y_test, y_pred)\n",
    "\n",
    "print(f\"RMSE: {rmse}\")\n",
    "print(f\"MSE: {mse}\")\n",
    "print(f\"R2: {r2}\")"
   ],
   "id": "5f32ca5658dc29cd",
   "outputs": [
    {
     "name": "stdout",
     "output_type": "stream",
     "text": [
      "RMSE: 0.6192125296115304\n",
      "MSE: 0.38342415682791037\n",
      "R2: 0.6239767238637239\n"
     ]
    }
   ],
   "execution_count": 32
  },
  {
   "metadata": {},
   "cell_type": "markdown",
   "source": "## Hyperparameter Tuning: Randomized Search",
   "id": "217174f213e4d292"
  },
  {
   "metadata": {
    "ExecuteTime": {
     "end_time": "2025-03-07T16:15:33.677037Z",
     "start_time": "2025-03-07T16:15:33.674239Z"
    }
   },
   "cell_type": "code",
   "source": [
    "# Define the parameter grid\n",
    "param_grid = {\n",
    "    'max_depth': np.arange(1, 20, 1),\n",
    "    'min_samples_split': np.arange(2, 20, 1),\n",
    "    'min_samples_leaf': np.arange(1, 20, 1),\n",
    "    'max_features': [None, 'sqrt', 'log2'],\n",
    "    'criterion': ['squared_error', 'friedman_mse', 'absolute_error'],\n",
    "    'splitter': ['best', 'random']\n",
    "}"
   ],
   "id": "5c7700d587e1cf5a",
   "outputs": [],
   "execution_count": 40
  },
  {
   "metadata": {
    "ExecuteTime": {
     "end_time": "2025-03-07T16:15:35.304339Z",
     "start_time": "2025-03-07T16:15:35.301457Z"
    }
   },
   "cell_type": "code",
   "source": [
    "# Initialize the model\n",
    "dt_reg_best = DecisionTreeRegressor(random_state=42)\n",
    "\n",
    "# Initialize RandomizedSearchCV\n",
    "random_search = RandomizedSearchCV(\n",
    "    estimator=dt_reg_best,\n",
    "    param_distributions=param_grid,\n",
    "    n_iter=100,\n",
    "    cv=5,\n",
    "    scoring='r2',\n",
    "    n_jobs=-1,\n",
    "    random_state=42,\n",
    "    error_score='raise'\n",
    ")"
   ],
   "id": "7151f7da4d1969ff",
   "outputs": [],
   "execution_count": 41
  },
  {
   "metadata": {
    "ExecuteTime": {
     "end_time": "2025-03-07T16:15:48.959010Z",
     "start_time": "2025-03-07T16:15:37.249090Z"
    }
   },
   "cell_type": "code",
   "source": [
    "# Fit the random search to the data\n",
    "random_search.fit(X_train, y_train)\n",
    "\n",
    "# Get the best parameters and best score\n",
    "best_params = random_search.best_params_\n",
    "best_score = random_search.best_score_\n",
    "\n",
    "print(f'Best Parameters: {best_params}')\n",
    "print(f'Best R2 Score: {best_score}')"
   ],
   "id": "165ad7b262253d37",
   "outputs": [
    {
     "name": "stdout",
     "output_type": "stream",
     "text": [
      "Best Parameters: {'splitter': 'best', 'min_samples_split': np.int64(5), 'min_samples_leaf': np.int64(8), 'max_features': None, 'max_depth': np.int64(19), 'criterion': 'squared_error'}\n",
      "Best R2 Score: 0.627671147143723\n"
     ]
    }
   ],
   "execution_count": 42
  },
  {
   "metadata": {
    "ExecuteTime": {
     "end_time": "2025-03-07T16:15:54.561771Z",
     "start_time": "2025-03-07T16:15:54.543337Z"
    }
   },
   "cell_type": "code",
   "source": [
    "# Initialize the model with the best parameters\n",
    "dt_reg_best = DecisionTreeRegressor(**best_params)\n",
    "dt_reg_best.fit(X_train, y_train)\n",
    "\n",
    "# Predict the target variable\n",
    "y_pred_best = dt_reg_best.predict(X_test)"
   ],
   "id": "862110dc01a82927",
   "outputs": [],
   "execution_count": 43
  },
  {
   "metadata": {
    "ExecuteTime": {
     "end_time": "2025-03-07T16:15:57.017072Z",
     "start_time": "2025-03-07T16:15:57.008891Z"
    }
   },
   "cell_type": "code",
   "source": [
    "# Evaluate the model\n",
    "rmse_best = root_mean_squared_error(y_test, y_pred_best)\n",
    "mse_best = mean_squared_error(y_test, y_pred_best)\n",
    "r2_best = r2_score(y_test, y_pred_best)\n",
    "\n",
    "print(f\"Best RMSE: {rmse_best}\")\n",
    "print(f\"Best MSE: {mse_best}\")\n",
    "print(f\"Best R2: {r2_best}\")"
   ],
   "id": "f00641ba3c0e80dc",
   "outputs": [
    {
     "name": "stdout",
     "output_type": "stream",
     "text": [
      "Best RMSE: 0.5939371439379091\n",
      "Best MSE: 0.35276133094912054\n",
      "Best R2: 0.6540476936688779\n"
     ]
    }
   ],
   "execution_count": 44
  }
 ],
 "metadata": {
  "kernelspec": {
   "name": "python3",
   "language": "python",
   "display_name": "Python 3 (ipykernel)"
  }
 },
 "nbformat": 5,
 "nbformat_minor": 9
}
