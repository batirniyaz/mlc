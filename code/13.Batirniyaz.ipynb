{
 "cells": [
  {
   "cell_type": "markdown",
   "id": "bfc42355-ec00-4c42-b133-faeebbcb837d",
   "metadata": {},
   "source": [
    "# Python Data Structures"
   ]
  },
  {
   "cell_type": "markdown",
   "id": "c37c69d1-6f27-4b46-9c5b-6bf5f297c8a6",
   "metadata": {},
   "source": [
    "## Buil-in Sequence functions"
   ]
  },
  {
   "cell_type": "markdown",
   "id": "01623628-c3be-4d76-8d84-3da111f3d399",
   "metadata": {},
   "source": [
    "### ZIP\n",
    "this function pairs two lists to each other creating tuples"
   ]
  },
  {
   "cell_type": "code",
   "execution_count": 3,
   "id": "f51fa1dc-89da-448a-ad3e-2191e466dc02",
   "metadata": {},
   "outputs": [
    {
     "name": "stdout",
     "output_type": "stream",
     "text": [
      "[(1, 'one'), (2, 'two'), (3, 'three'), (4, 'four')]\n"
     ]
    }
   ],
   "source": [
    "list_1 = [1, 2, 3, 4]\n",
    "list_2 = ['one', 'two', 'three', 'four']\n",
    "\n",
    "zipped = list(zip(list_1, list_2))\n",
    "print(zipped)"
   ]
  },
  {
   "cell_type": "markdown",
   "id": "a71b747e-d8a3-4eef-963c-63a4b0f6953a",
   "metadata": {},
   "source": [
    "### Enumerate\n",
    "this function numerates itself the iteratable data"
   ]
  },
  {
   "cell_type": "code",
   "execution_count": 7,
   "id": "bf5133d1-59cd-4a3c-a597-265cd23f4cf4",
   "metadata": {},
   "outputs": [
    {
     "name": "stdout",
     "output_type": "stream",
     "text": [
      "(0, 'one')\n",
      "(1, 'two')\n",
      "(2, 'three')\n",
      "(3, 'four')\n"
     ]
    }
   ],
   "source": [
    "for index, value in enumerate(list_2):\n",
    "    print((index, value))"
   ]
  },
  {
   "cell_type": "markdown",
   "id": "dc3e9a2f-1afc-45b1-b7ec-e9cf82b8340d",
   "metadata": {},
   "source": [
    "### Reversed\n",
    "this function reverse iteratable data"
   ]
  },
  {
   "cell_type": "code",
   "execution_count": 9,
   "id": "3df43bda-b6a8-4b91-be31-a22f9a9bc73c",
   "metadata": {},
   "outputs": [
    {
     "name": "stdout",
     "output_type": "stream",
     "text": [
      "['four', 'three', 'two', 'one']\n",
      "[4, 3, 2, 1]\n"
     ]
    }
   ],
   "source": [
    "reversed_list_1 = list(reversed(list_1))\n",
    "reversed_list_2 = list(reversed(list_2))\n",
    "print(reversed_list_2)\n",
    "print(reversed_list_1)"
   ]
  },
  {
   "cell_type": "code",
   "execution_count": null,
   "id": "467bcb02-9993-4dc5-abc2-553204c1de51",
   "metadata": {},
   "outputs": [],
   "source": []
  }
 ],
 "metadata": {
  "kernelspec": {
   "display_name": "Python 3 (ipykernel)",
   "language": "python",
   "name": "python3"
  },
  "language_info": {
   "codemirror_mode": {
    "name": "ipython",
    "version": 3
   },
   "file_extension": ".py",
   "mimetype": "text/x-python",
   "name": "python",
   "nbconvert_exporter": "python",
   "pygments_lexer": "ipython3",
   "version": "3.12.8"
  }
 },
 "nbformat": 4,
 "nbformat_minor": 5
}
